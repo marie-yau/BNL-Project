{
 "cells": [
  {
   "cell_type": "code",
   "execution_count": 1,
   "metadata": {},
   "outputs": [],
   "source": [
    "import matplotlib.pyplot as plt\n",
    "from scipy.interpolate import griddata\n",
    "import pandas as pd\n",
    "import numpy as np\n",
    "import lmfit\n",
    "from lmfit.lineshapes import gaussian2d, lorentzian"
   ]
  },
  {
   "cell_type": "code",
   "execution_count": 2,
   "metadata": {},
   "outputs": [],
   "source": [
    "# disable warnings\n",
    "import warnings\n",
    "warnings.filterwarnings('ignore')"
   ]
  },
  {
   "cell_type": "markdown",
   "metadata": {},
   "source": [
    "# Read Data"
   ]
  },
  {
   "cell_type": "code",
   "execution_count": 3,
   "metadata": {},
   "outputs": [],
   "source": [
    "data = pd.read_csv(\"quadrant 1.csv\", sep=\",\")\n",
    "data = data.sort_values(by=[\"Z X-Ray Coordinate\", \n",
    "                            \"Y X-Ray Coordinate\",\n",
    "                            \"X X-Ray Coordinate\", \n",
    "                            \"Y Pixel Index\",\n",
    "                            \"X Pixel Index\"])"
   ]
  },
  {
   "cell_type": "markdown",
   "metadata": {},
   "source": [
    "# Get Predicted and Original Coordinates"
   ]
  },
  {
   "cell_type": "code",
   "execution_count": 4,
   "metadata": {},
   "outputs": [],
   "source": [
    "def get_predicted_delta_xy(x, y, z):\n",
    "    sample = data.loc[(data[\"X X-Ray Coordinate\"] == x) & (data[\"Y X-Ray Coordinate\"] == y) & (data[\"Z X-Ray Coordinate\"] == z)]\n",
    "    x = sample[\"X Pixel Index\"].to_numpy()\n",
    "    y = sample[\"Y Pixel Index\"].to_numpy()\n",
    "    z = sample[\"Charge Fraction\"].to_numpy()\n",
    "    \n",
    "    model = lmfit.models.Gaussian2dModel()\n",
    "    params = model.guess(z, x, y)\n",
    "    result = model.fit(z, x=x, y=y, params=params)\n",
    "    \n",
    "    predicted_delta_x = result.params.get(\"centerx\").value + 0.5 - 2.5\n",
    "    predicted_delta_y = result.params.get(\"centery\").value + 0.5 - 2.5\n",
    "    \n",
    "    return (predicted_delta_x, predicted_delta_y)"
   ]
  },
  {
   "cell_type": "code",
   "execution_count": 5,
   "metadata": {},
   "outputs": [],
   "source": [
    "def get_original_delta_xy(x, y):\n",
    "    original_delta_x = x / 20\n",
    "    original_delta_y = y / 20\n",
    "    return (original_delta_x, original_delta_y)"
   ]
  },
  {
   "cell_type": "markdown",
   "metadata": {},
   "source": [
    "# Get Predicted and Original Coordinates for all Quadrants"
   ]
  },
  {
   "cell_type": "code",
   "execution_count": 6,
   "metadata": {},
   "outputs": [],
   "source": [
    "def get_predicted_and_original_coordinates_q1(x_q1, y_q1, z_q1):\n",
    "    predicted_delta_x_q1, predicted_delta_y_q1 = get_predicted_delta_xy(x_q1, y_q1, z_q1)\n",
    "    original_delta_x_q1, original_delta_y_q1 = get_original_delta_xy(x_q1, y_q1)\n",
    "    \n",
    "    predicted_x = 2.5 + predicted_delta_x_q1\n",
    "    predicted_y = 2.5 + predicted_delta_y_q1\n",
    "    original_x = 2.5 + original_delta_x_q1\n",
    "    original_y = 2.5 + original_delta_y_q1\n",
    "    \n",
    "    return (predicted_x, predicted_y, original_x, original_y)\n",
    "\n",
    "def get_predicted_and_original_coordinates_q2(x_q2, y_q2, z_q2):\n",
    "    x_q1 = y_q2\n",
    "    y_q1 = -x_q2\n",
    "    z_q1 = z_q2\n",
    "    \n",
    "    predicted_delta_x_q1, predicted_delta_y_q1 = get_predicted_delta_xy(x_q1, y_q1, z_q1)\n",
    "    original_delta_x_q1, original_delta_y_q1 = get_original_delta_xy(x_q1, y_q1)\n",
    "    \n",
    "    predicted_delta_x_q2 = -predicted_delta_y_q1\n",
    "    predicted_delta_y_q2 = predicted_delta_x_q1\n",
    "    original_delta_x_q2 = -original_delta_y_q1\n",
    "    original_delta_y_q2 = original_delta_x_q1\n",
    "    \n",
    "    predicted_x = 2.5 + predicted_delta_x_q2\n",
    "    predicted_y = 2.5 + predicted_delta_y_q2\n",
    "    original_x = 2.5 + original_delta_x_q2\n",
    "    original_y = 2.5 + original_delta_y_q2\n",
    "    \n",
    "    return (predicted_x, predicted_y, original_x, original_y)\n",
    "\n",
    "def get_predicted_and_original_coordinates_q3(x_q3, y_q3, z_q3):\n",
    "    x_q1 = -y_q3\n",
    "    y_q1 = -x_q3\n",
    "    z_q1 = z_q3\n",
    "    \n",
    "    predicted_delta_x_q1, predicted_delta_y_q1 = get_predicted_delta_xy(x_q1, y_q1, z_q1)\n",
    "    original_delta_x_q1, original_delta_y_q1 = get_original_delta_xy(x_q1, y_q1)\n",
    "    \n",
    "    predicted_delta_x_q3 = -predicted_delta_x_q1\n",
    "    predicted_delta_y_q3 = -predicted_delta_y_q1\n",
    "    original_delta_x_q3 = -original_delta_x_q1\n",
    "    original_delta_y_q3 = -original_delta_y_q1\n",
    "\n",
    "    predicted_x = 2.5 + predicted_delta_x_q3\n",
    "    predicted_y = 2.5 + predicted_delta_y_q3\n",
    "    original_x = 2.5 + original_delta_x_q3\n",
    "    original_y = 2.5 + original_delta_y_q3\n",
    "    \n",
    "    return (predicted_x, predicted_y, original_x, original_y)\n",
    "    \n",
    "def get_predicted_and_original_coordinates_q4(x_q4, y_q4, z_q4):\n",
    "    x_q1 = -y_q4\n",
    "    y_q1 = x_q4\n",
    "    z_q1 = z_q4\n",
    "    \n",
    "    predicted_delta_x_q1, predicted_delta_y_q1 = get_predicted_delta_xy(x_q1, y_q1, z_q1)\n",
    "    original_delta_x_q1, original_delta_y_q1 = get_original_delta_xy(x_q1, y_q1)\n",
    "    \n",
    "    predicted_delta_x_q4 = predicted_delta_y_q1\n",
    "    predicted_delta_y_q4 = -predicted_delta_x_q1\n",
    "    original_delta_x_q4 = original_delta_y_q1\n",
    "    original_delta_y_q4 = -original_delta_x_q1\n",
    "\n",
    "    predicted_x = 2.5 + predicted_delta_x_q4\n",
    "    predicted_y = 2.5 + predicted_delta_y_q4\n",
    "    original_x = 2.5 + original_delta_x_q4\n",
    "    original_y = 2.5 + original_delta_y_q4\n",
    "    \n",
    "    return (predicted_x, predicted_y, original_x, original_y)"
   ]
  },
  {
   "cell_type": "markdown",
   "metadata": {},
   "source": [
    "# Predict Original X-ray Coordinate based on Computed Charge Distribution"
   ]
  },
  {
   "cell_type": "code",
   "execution_count": 7,
   "metadata": {},
   "outputs": [
    {
     "data": {
      "text/html": [
       "<div>\n",
       "<style scoped>\n",
       "    .dataframe tbody tr th:only-of-type {\n",
       "        vertical-align: middle;\n",
       "    }\n",
       "\n",
       "    .dataframe tbody tr th {\n",
       "        vertical-align: top;\n",
       "    }\n",
       "\n",
       "    .dataframe thead th {\n",
       "        text-align: right;\n",
       "    }\n",
       "</style>\n",
       "<table border=\"1\" class=\"dataframe\">\n",
       "  <thead>\n",
       "    <tr style=\"text-align: right;\">\n",
       "      <th></th>\n",
       "      <th>Real X</th>\n",
       "      <th>Predicted X</th>\n",
       "      <th>Real Y</th>\n",
       "      <th>Predicted Y</th>\n",
       "      <th>Real Z</th>\n",
       "      <th>Distance</th>\n",
       "    </tr>\n",
       "  </thead>\n",
       "  <tbody>\n",
       "    <tr>\n",
       "      <th>0</th>\n",
       "      <td>2.5</td>\n",
       "      <td>2.5</td>\n",
       "      <td>2.5</td>\n",
       "      <td>2.5</td>\n",
       "      <td>0.0</td>\n",
       "      <td>2.634816e-08</td>\n",
       "    </tr>\n",
       "    <tr>\n",
       "      <th>1</th>\n",
       "      <td>2.5</td>\n",
       "      <td>2.5</td>\n",
       "      <td>2.5</td>\n",
       "      <td>2.5</td>\n",
       "      <td>1.0</td>\n",
       "      <td>2.650429e-12</td>\n",
       "    </tr>\n",
       "    <tr>\n",
       "      <th>2</th>\n",
       "      <td>2.5</td>\n",
       "      <td>2.5</td>\n",
       "      <td>2.5</td>\n",
       "      <td>2.5</td>\n",
       "      <td>2.0</td>\n",
       "      <td>2.161972e-12</td>\n",
       "    </tr>\n",
       "    <tr>\n",
       "      <th>3</th>\n",
       "      <td>2.5</td>\n",
       "      <td>2.5</td>\n",
       "      <td>2.5</td>\n",
       "      <td>2.5</td>\n",
       "      <td>3.0</td>\n",
       "      <td>8.999770e-13</td>\n",
       "    </tr>\n",
       "    <tr>\n",
       "      <th>4</th>\n",
       "      <td>2.5</td>\n",
       "      <td>2.5</td>\n",
       "      <td>2.5</td>\n",
       "      <td>2.5</td>\n",
       "      <td>4.0</td>\n",
       "      <td>1.165387e-12</td>\n",
       "    </tr>\n",
       "    <tr>\n",
       "      <th>...</th>\n",
       "      <td>...</td>\n",
       "      <td>...</td>\n",
       "      <td>...</td>\n",
       "      <td>...</td>\n",
       "      <td>...</td>\n",
       "      <td>...</td>\n",
       "    </tr>\n",
       "    <tr>\n",
       "      <th>1326</th>\n",
       "      <td>3.0</td>\n",
       "      <td>3.0</td>\n",
       "      <td>3.0</td>\n",
       "      <td>3.0</td>\n",
       "      <td>6.0</td>\n",
       "      <td>1.936029e-07</td>\n",
       "    </tr>\n",
       "    <tr>\n",
       "      <th>1327</th>\n",
       "      <td>3.0</td>\n",
       "      <td>3.0</td>\n",
       "      <td>3.0</td>\n",
       "      <td>3.0</td>\n",
       "      <td>7.0</td>\n",
       "      <td>3.014454e-07</td>\n",
       "    </tr>\n",
       "    <tr>\n",
       "      <th>1328</th>\n",
       "      <td>3.0</td>\n",
       "      <td>3.0</td>\n",
       "      <td>3.0</td>\n",
       "      <td>3.0</td>\n",
       "      <td>8.0</td>\n",
       "      <td>4.070067e-07</td>\n",
       "    </tr>\n",
       "    <tr>\n",
       "      <th>1329</th>\n",
       "      <td>3.0</td>\n",
       "      <td>3.0</td>\n",
       "      <td>3.0</td>\n",
       "      <td>3.0</td>\n",
       "      <td>9.0</td>\n",
       "      <td>4.845191e-07</td>\n",
       "    </tr>\n",
       "    <tr>\n",
       "      <th>1330</th>\n",
       "      <td>3.0</td>\n",
       "      <td>3.0</td>\n",
       "      <td>3.0</td>\n",
       "      <td>3.0</td>\n",
       "      <td>10.0</td>\n",
       "      <td>5.130312e-07</td>\n",
       "    </tr>\n",
       "  </tbody>\n",
       "</table>\n",
       "<p>1331 rows × 6 columns</p>\n",
       "</div>"
      ],
      "text/plain": [
       "      Real X  Predicted X  Real Y  Predicted Y  Real Z      Distance\n",
       "0        2.5          2.5     2.5          2.5     0.0  2.634816e-08\n",
       "1        2.5          2.5     2.5          2.5     1.0  2.650429e-12\n",
       "2        2.5          2.5     2.5          2.5     2.0  2.161972e-12\n",
       "3        2.5          2.5     2.5          2.5     3.0  8.999770e-13\n",
       "4        2.5          2.5     2.5          2.5     4.0  1.165387e-12\n",
       "...      ...          ...     ...          ...     ...           ...\n",
       "1326     3.0          3.0     3.0          3.0     6.0  1.936029e-07\n",
       "1327     3.0          3.0     3.0          3.0     7.0  3.014454e-07\n",
       "1328     3.0          3.0     3.0          3.0     8.0  4.070067e-07\n",
       "1329     3.0          3.0     3.0          3.0     9.0  4.845191e-07\n",
       "1330     3.0          3.0     3.0          3.0    10.0  5.130312e-07\n",
       "\n",
       "[1331 rows x 6 columns]"
      ]
     },
     "execution_count": 7,
     "metadata": {},
     "output_type": "execute_result"
    }
   ],
   "source": [
    "result = pd.DataFrame({\"Real X\":[], \"Predicted X\":[], \"Real Y\":[], \"Predicted Y\":[]})\n",
    "\n",
    "for x in range(0,11):\n",
    "    for y in range(0,11):\n",
    "        for z in range(0,11):\n",
    "            predicted_x, predicted_y, original_x, original_y = get_predicted_and_original_coordinates_q1(x,y,z)\n",
    "            result = result.append({\"Real X\":original_x, \"Predicted X\":predicted_x, \n",
    "                                    \"Real Y\":original_y, \"Predicted Y\":predicted_y, \n",
    "                                    \"Real Z\":z},\n",
    "                                   ignore_index=True)\n",
    "            \n",
    "result[\"Distance\"] = np.sqrt((result[\"Real X\"] - result[\"Predicted X\"])**2 + (result[\"Real Y\"] - result[\"Predicted Y\"])**2)\n",
    "\n",
    "result"
   ]
  },
  {
   "cell_type": "code",
   "execution_count": 8,
   "metadata": {},
   "outputs": [
    {
     "data": {
      "text/plain": [
       "(8.999769973175399e-13, 0.6363960872488199)"
      ]
     },
     "execution_count": 8,
     "metadata": {},
     "output_type": "execute_result"
    }
   ],
   "source": [
    "np.mean(result[\"Distance\"]), np.median(result[\"Distance\"])\n",
    "np.min(result[\"Distance\"]), np.max(result[\"Distance\"])"
   ]
  },
  {
   "cell_type": "code",
   "execution_count": 9,
   "metadata": {},
   "outputs": [
    {
     "data": {
      "image/png": "[encoded data removed]",
      "text/plain": [
       "<Figure size 432x288 with 1 Axes>"
      ]
     },
     "metadata": {
      "needs_background": "light"
     },
     "output_type": "display_data"
    }
   ],
   "source": [
    "plt.hist(result[\"Distance\"], density=True,  bins = 50, color=\"blue\")\n",
    "plt.xlabel(\"Distance between predicted and real x-ray position\")\n",
    "plt.ylabel(\"Density\")\n",
    "plt.title(\"Histogram of distances between predicted and real x-ray position\");"
   ]
  },
  {
   "cell_type": "code",
   "execution_count": 11,
   "metadata": {},
   "outputs": [
    {
     "data": {
      "image/png": "[encoded data removed]",
      "text/plain": [
       "<Figure size 432x288 with 1 Axes>"
      ]
     },
     "metadata": {
      "needs_background": "light"
     },
     "output_type": "display_data"
    }
   ],
   "source": [
    "medians = result[[\"Real Z\", \"Distance\"]].groupby([\"Real Z\"]).median()\n",
    "medians = medians.reset_index()\n",
    "medians[\"Real Z\"] = medians[\"Real Z\"].astype(int)\n",
    "\n",
    "plt.scatter(0.1 * result[\"Real Z\"], result[\"Distance\"], s=40, alpha=0.05, color=\"blue\", label=\"Data point\")\n",
    "plt.scatter(0.1 * medians[\"Real Z\"], medians[\"Distance\"], s=20, color=\"red\", label=\"Median\")\n",
    "plt.plot()\n",
    "plt.legend()\n",
    "\n",
    "plt.xticks(0.1 * np.arange(0,11))\n",
    "plt.xlabel(\"Grid Z axis coordinate\")\n",
    "plt.ylabel(\"Distance between predicted and real x-ray position\")\n",
    "plt.title(\"Scatter plot of grid Z axis coordinate vs\\ndistance between predicted and real x-ray position\");"
   ]
  },
  {
   "cell_type": "code",
   "execution_count": null,
   "metadata": {},
   "outputs": [],
   "source": []
  }
 ],
 "metadata": {
  "kernelspec": {
   "display_name": "Python 3",
   "language": "python",
   "name": "python3"
  },
  "language_info": {
   "codemirror_mode": {
    "name": "ipython",
    "version": 3
   },
   "file_extension": ".py",
   "mimetype": "text/x-python",
   "name": "python",
   "nbconvert_exporter": "python",
   "pygments_lexer": "ipython3",
   "version": "3.8.5"
  }
 },
 "nbformat": 4,
 "nbformat_minor": 4
}
